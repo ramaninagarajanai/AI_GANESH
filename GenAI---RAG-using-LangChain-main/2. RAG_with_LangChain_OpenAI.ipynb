{
  "nbformat": 4,
  "nbformat_minor": 0,
  "metadata": {
    "colab": {
      "provenance": []
    },
    "kernelspec": {
      "name": "python3",
      "display_name": "Python 3"
    },
    "language_info": {
      "name": "python"
    }
  },
  "cells": [
    {
      "cell_type": "code",
      "source": [
        "!git clone https://github.com/Jaish19/GenAI---RAG-using-LangChain.git"
      ],
      "metadata": {
        "id": "1sQj3uFvTH2C",
        "outputId": "54fa29de-796d-44ce-8d80-37c84298612c",
        "colab": {
          "base_uri": "https://localhost:8080/"
        }
      },
      "execution_count": 1,
      "outputs": [
        {
          "output_type": "stream",
          "name": "stdout",
          "text": [
            "Cloning into 'GenAI---RAG-using-LangChain'...\n",
            "remote: Enumerating objects: 10, done.\u001b[K\n",
            "remote: Counting objects: 100% (10/10), done.\u001b[K\n",
            "remote: Compressing objects: 100% (9/9), done.\u001b[K\n",
            "remote: Total 10 (delta 1), reused 0 (delta 0), pack-reused 0\u001b[K\n",
            "Receiving objects: 100% (10/10), 89.09 KiB | 480.00 KiB/s, done.\n",
            "Resolving deltas: 100% (1/1), done.\n"
          ]
        }
      ]
    },
    {
      "cell_type": "markdown",
      "source": [
        "**STEPS OF RAG PIPELINE PROCESS:**\n",
        "\n",
        "1. Create the Database and vectorize the document to learn and put the embedding data to DB (FAISS)\n",
        "2. Create a retriever tool to pull the data from db based on query it gets.\n",
        "3. Create the ChatOpenAI llm model to put the query + retriever response to llm model to get the response.\n",
        "4. Create the Langchain framework to organize this entire process to work seemless.\n"
      ],
      "metadata": {
        "id": "wJFp0lYbTNI3"
      }
    },
    {
      "cell_type": "code",
      "execution_count": 2,
      "metadata": {
        "colab": {
          "base_uri": "https://localhost:8080/"
        },
        "collapsed": true,
        "id": "iUhV4umDK1TX",
        "outputId": "3625ff23-5dc8-4b7d-b418-22edc2ef0523"
      },
      "outputs": [
        {
          "output_type": "stream",
          "name": "stdout",
          "text": [
            "Collecting langchain\n",
            "  Downloading langchain-0.2.6-py3-none-any.whl (975 kB)\n",
            "\u001b[?25l     \u001b[90m━━━━━━━━━━━━━━━━━━━━━━━━━━━━━━━━━━━━━━━━\u001b[0m \u001b[32m0.0/975.5 kB\u001b[0m \u001b[31m?\u001b[0m eta \u001b[36m-:--:--\u001b[0m\r\u001b[2K     \u001b[91m━━━━━━━━━━━━━━━━━━━━━━━━━━━\u001b[0m\u001b[91m╸\u001b[0m\u001b[90m━━━━━━━━━━━━\u001b[0m \u001b[32m675.8/975.5 kB\u001b[0m \u001b[31m20.1 MB/s\u001b[0m eta \u001b[36m0:00:01\u001b[0m\r\u001b[2K     \u001b[90m━━━━━━━━━━━━━━━━━━━━━━━━━━━━━━━━━━━━━━━━\u001b[0m \u001b[32m975.5/975.5 kB\u001b[0m \u001b[31m20.2 MB/s\u001b[0m eta \u001b[36m0:00:00\u001b[0m\n",
            "\u001b[?25hRequirement already satisfied: PyYAML>=5.3 in /usr/local/lib/python3.10/dist-packages (from langchain) (6.0.1)\n",
            "Requirement already satisfied: SQLAlchemy<3,>=1.4 in /usr/local/lib/python3.10/dist-packages (from langchain) (2.0.31)\n",
            "Requirement already satisfied: aiohttp<4.0.0,>=3.8.3 in /usr/local/lib/python3.10/dist-packages (from langchain) (3.9.5)\n",
            "Requirement already satisfied: async-timeout<5.0.0,>=4.0.0 in /usr/local/lib/python3.10/dist-packages (from langchain) (4.0.3)\n",
            "Collecting langchain-core<0.3.0,>=0.2.10 (from langchain)\n",
            "  Downloading langchain_core-0.2.10-py3-none-any.whl (332 kB)\n",
            "\u001b[2K     \u001b[90m━━━━━━━━━━━━━━━━━━━━━━━━━━━━━━━━━━━━━━━━\u001b[0m \u001b[32m332.8/332.8 kB\u001b[0m \u001b[31m36.1 MB/s\u001b[0m eta \u001b[36m0:00:00\u001b[0m\n",
            "\u001b[?25hCollecting langchain-text-splitters<0.3.0,>=0.2.0 (from langchain)\n",
            "  Downloading langchain_text_splitters-0.2.2-py3-none-any.whl (25 kB)\n",
            "Collecting langsmith<0.2.0,>=0.1.17 (from langchain)\n",
            "  Downloading langsmith-0.1.83-py3-none-any.whl (127 kB)\n",
            "\u001b[2K     \u001b[90m━━━━━━━━━━━━━━━━━━━━━━━━━━━━━━━━━━━━━━━━\u001b[0m \u001b[32m127.5/127.5 kB\u001b[0m \u001b[31m15.3 MB/s\u001b[0m eta \u001b[36m0:00:00\u001b[0m\n",
            "\u001b[?25hRequirement already satisfied: numpy<2,>=1 in /usr/local/lib/python3.10/dist-packages (from langchain) (1.25.2)\n",
            "Requirement already satisfied: pydantic<3,>=1 in /usr/local/lib/python3.10/dist-packages (from langchain) (2.7.4)\n",
            "Requirement already satisfied: requests<3,>=2 in /usr/local/lib/python3.10/dist-packages (from langchain) (2.31.0)\n",
            "Requirement already satisfied: tenacity!=8.4.0,<9.0.0,>=8.1.0 in /usr/local/lib/python3.10/dist-packages (from langchain) (8.4.2)\n",
            "Requirement already satisfied: aiosignal>=1.1.2 in /usr/local/lib/python3.10/dist-packages (from aiohttp<4.0.0,>=3.8.3->langchain) (1.3.1)\n",
            "Requirement already satisfied: attrs>=17.3.0 in /usr/local/lib/python3.10/dist-packages (from aiohttp<4.0.0,>=3.8.3->langchain) (23.2.0)\n",
            "Requirement already satisfied: frozenlist>=1.1.1 in /usr/local/lib/python3.10/dist-packages (from aiohttp<4.0.0,>=3.8.3->langchain) (1.4.1)\n",
            "Requirement already satisfied: multidict<7.0,>=4.5 in /usr/local/lib/python3.10/dist-packages (from aiohttp<4.0.0,>=3.8.3->langchain) (6.0.5)\n",
            "Requirement already satisfied: yarl<2.0,>=1.0 in /usr/local/lib/python3.10/dist-packages (from aiohttp<4.0.0,>=3.8.3->langchain) (1.9.4)\n",
            "Collecting jsonpatch<2.0,>=1.33 (from langchain-core<0.3.0,>=0.2.10->langchain)\n",
            "  Downloading jsonpatch-1.33-py2.py3-none-any.whl (12 kB)\n",
            "Requirement already satisfied: packaging<25,>=23.2 in /usr/local/lib/python3.10/dist-packages (from langchain-core<0.3.0,>=0.2.10->langchain) (24.1)\n",
            "Collecting orjson<4.0.0,>=3.9.14 (from langsmith<0.2.0,>=0.1.17->langchain)\n",
            "  Downloading orjson-3.10.5-cp310-cp310-manylinux_2_17_x86_64.manylinux2014_x86_64.whl (144 kB)\n",
            "\u001b[2K     \u001b[90m━━━━━━━━━━━━━━━━━━━━━━━━━━━━━━━━━━━━━━━━\u001b[0m \u001b[32m145.0/145.0 kB\u001b[0m \u001b[31m18.4 MB/s\u001b[0m eta \u001b[36m0:00:00\u001b[0m\n",
            "\u001b[?25hRequirement already satisfied: annotated-types>=0.4.0 in /usr/local/lib/python3.10/dist-packages (from pydantic<3,>=1->langchain) (0.7.0)\n",
            "Requirement already satisfied: pydantic-core==2.18.4 in /usr/local/lib/python3.10/dist-packages (from pydantic<3,>=1->langchain) (2.18.4)\n",
            "Requirement already satisfied: typing-extensions>=4.6.1 in /usr/local/lib/python3.10/dist-packages (from pydantic<3,>=1->langchain) (4.12.2)\n",
            "Requirement already satisfied: charset-normalizer<4,>=2 in /usr/local/lib/python3.10/dist-packages (from requests<3,>=2->langchain) (3.3.2)\n",
            "Requirement already satisfied: idna<4,>=2.5 in /usr/local/lib/python3.10/dist-packages (from requests<3,>=2->langchain) (3.7)\n",
            "Requirement already satisfied: urllib3<3,>=1.21.1 in /usr/local/lib/python3.10/dist-packages (from requests<3,>=2->langchain) (2.0.7)\n",
            "Requirement already satisfied: certifi>=2017.4.17 in /usr/local/lib/python3.10/dist-packages (from requests<3,>=2->langchain) (2024.6.2)\n",
            "Requirement already satisfied: greenlet!=0.4.17 in /usr/local/lib/python3.10/dist-packages (from SQLAlchemy<3,>=1.4->langchain) (3.0.3)\n",
            "Collecting jsonpointer>=1.9 (from jsonpatch<2.0,>=1.33->langchain-core<0.3.0,>=0.2.10->langchain)\n",
            "  Downloading jsonpointer-3.0.0-py2.py3-none-any.whl (7.6 kB)\n",
            "Installing collected packages: orjson, jsonpointer, jsonpatch, langsmith, langchain-core, langchain-text-splitters, langchain\n",
            "Successfully installed jsonpatch-1.33 jsonpointer-3.0.0 langchain-0.2.6 langchain-core-0.2.10 langchain-text-splitters-0.2.2 langsmith-0.1.83 orjson-3.10.5\n",
            "Collecting langchain_community\n",
            "  Downloading langchain_community-0.2.6-py3-none-any.whl (2.2 MB)\n",
            "\u001b[2K     \u001b[90m━━━━━━━━━━━━━━━━━━━━━━━━━━━━━━━━━━━━━━━━\u001b[0m \u001b[32m2.2/2.2 MB\u001b[0m \u001b[31m34.7 MB/s\u001b[0m eta \u001b[36m0:00:00\u001b[0m\n",
            "\u001b[?25hRequirement already satisfied: PyYAML>=5.3 in /usr/local/lib/python3.10/dist-packages (from langchain_community) (6.0.1)\n",
            "Requirement already satisfied: SQLAlchemy<3,>=1.4 in /usr/local/lib/python3.10/dist-packages (from langchain_community) (2.0.31)\n",
            "Requirement already satisfied: aiohttp<4.0.0,>=3.8.3 in /usr/local/lib/python3.10/dist-packages (from langchain_community) (3.9.5)\n",
            "Collecting dataclasses-json<0.7,>=0.5.7 (from langchain_community)\n",
            "  Downloading dataclasses_json-0.6.7-py3-none-any.whl (28 kB)\n",
            "Requirement already satisfied: langchain<0.3.0,>=0.2.6 in /usr/local/lib/python3.10/dist-packages (from langchain_community) (0.2.6)\n",
            "Requirement already satisfied: langchain-core<0.3.0,>=0.2.10 in /usr/local/lib/python3.10/dist-packages (from langchain_community) (0.2.10)\n",
            "Requirement already satisfied: langsmith<0.2.0,>=0.1.0 in /usr/local/lib/python3.10/dist-packages (from langchain_community) (0.1.83)\n",
            "Requirement already satisfied: numpy<2,>=1 in /usr/local/lib/python3.10/dist-packages (from langchain_community) (1.25.2)\n",
            "Requirement already satisfied: requests<3,>=2 in /usr/local/lib/python3.10/dist-packages (from langchain_community) (2.31.0)\n",
            "Requirement already satisfied: tenacity!=8.4.0,<9.0.0,>=8.1.0 in /usr/local/lib/python3.10/dist-packages (from langchain_community) (8.4.2)\n",
            "Requirement already satisfied: aiosignal>=1.1.2 in /usr/local/lib/python3.10/dist-packages (from aiohttp<4.0.0,>=3.8.3->langchain_community) (1.3.1)\n",
            "Requirement already satisfied: attrs>=17.3.0 in /usr/local/lib/python3.10/dist-packages (from aiohttp<4.0.0,>=3.8.3->langchain_community) (23.2.0)\n",
            "Requirement already satisfied: frozenlist>=1.1.1 in /usr/local/lib/python3.10/dist-packages (from aiohttp<4.0.0,>=3.8.3->langchain_community) (1.4.1)\n",
            "Requirement already satisfied: multidict<7.0,>=4.5 in /usr/local/lib/python3.10/dist-packages (from aiohttp<4.0.0,>=3.8.3->langchain_community) (6.0.5)\n",
            "Requirement already satisfied: yarl<2.0,>=1.0 in /usr/local/lib/python3.10/dist-packages (from aiohttp<4.0.0,>=3.8.3->langchain_community) (1.9.4)\n",
            "Requirement already satisfied: async-timeout<5.0,>=4.0 in /usr/local/lib/python3.10/dist-packages (from aiohttp<4.0.0,>=3.8.3->langchain_community) (4.0.3)\n",
            "Collecting marshmallow<4.0.0,>=3.18.0 (from dataclasses-json<0.7,>=0.5.7->langchain_community)\n",
            "  Downloading marshmallow-3.21.3-py3-none-any.whl (49 kB)\n",
            "\u001b[2K     \u001b[90m━━━━━━━━━━━━━━━━━━━━━━━━━━━━━━━━━━━━━━━━\u001b[0m \u001b[32m49.2/49.2 kB\u001b[0m \u001b[31m3.9 MB/s\u001b[0m eta \u001b[36m0:00:00\u001b[0m\n",
            "\u001b[?25hCollecting typing-inspect<1,>=0.4.0 (from dataclasses-json<0.7,>=0.5.7->langchain_community)\n",
            "  Downloading typing_inspect-0.9.0-py3-none-any.whl (8.8 kB)\n",
            "Requirement already satisfied: langchain-text-splitters<0.3.0,>=0.2.0 in /usr/local/lib/python3.10/dist-packages (from langchain<0.3.0,>=0.2.6->langchain_community) (0.2.2)\n",
            "Requirement already satisfied: pydantic<3,>=1 in /usr/local/lib/python3.10/dist-packages (from langchain<0.3.0,>=0.2.6->langchain_community) (2.7.4)\n",
            "Requirement already satisfied: jsonpatch<2.0,>=1.33 in /usr/local/lib/python3.10/dist-packages (from langchain-core<0.3.0,>=0.2.10->langchain_community) (1.33)\n",
            "Requirement already satisfied: packaging<25,>=23.2 in /usr/local/lib/python3.10/dist-packages (from langchain-core<0.3.0,>=0.2.10->langchain_community) (24.1)\n",
            "Requirement already satisfied: orjson<4.0.0,>=3.9.14 in /usr/local/lib/python3.10/dist-packages (from langsmith<0.2.0,>=0.1.0->langchain_community) (3.10.5)\n",
            "Requirement already satisfied: charset-normalizer<4,>=2 in /usr/local/lib/python3.10/dist-packages (from requests<3,>=2->langchain_community) (3.3.2)\n",
            "Requirement already satisfied: idna<4,>=2.5 in /usr/local/lib/python3.10/dist-packages (from requests<3,>=2->langchain_community) (3.7)\n",
            "Requirement already satisfied: urllib3<3,>=1.21.1 in /usr/local/lib/python3.10/dist-packages (from requests<3,>=2->langchain_community) (2.0.7)\n",
            "Requirement already satisfied: certifi>=2017.4.17 in /usr/local/lib/python3.10/dist-packages (from requests<3,>=2->langchain_community) (2024.6.2)\n",
            "Requirement already satisfied: typing-extensions>=4.6.0 in /usr/local/lib/python3.10/dist-packages (from SQLAlchemy<3,>=1.4->langchain_community) (4.12.2)\n",
            "Requirement already satisfied: greenlet!=0.4.17 in /usr/local/lib/python3.10/dist-packages (from SQLAlchemy<3,>=1.4->langchain_community) (3.0.3)\n",
            "Requirement already satisfied: jsonpointer>=1.9 in /usr/local/lib/python3.10/dist-packages (from jsonpatch<2.0,>=1.33->langchain-core<0.3.0,>=0.2.10->langchain_community) (3.0.0)\n",
            "Requirement already satisfied: annotated-types>=0.4.0 in /usr/local/lib/python3.10/dist-packages (from pydantic<3,>=1->langchain<0.3.0,>=0.2.6->langchain_community) (0.7.0)\n",
            "Requirement already satisfied: pydantic-core==2.18.4 in /usr/local/lib/python3.10/dist-packages (from pydantic<3,>=1->langchain<0.3.0,>=0.2.6->langchain_community) (2.18.4)\n",
            "Collecting mypy-extensions>=0.3.0 (from typing-inspect<1,>=0.4.0->dataclasses-json<0.7,>=0.5.7->langchain_community)\n",
            "  Downloading mypy_extensions-1.0.0-py3-none-any.whl (4.7 kB)\n",
            "Installing collected packages: mypy-extensions, marshmallow, typing-inspect, dataclasses-json, langchain_community\n",
            "Successfully installed dataclasses-json-0.6.7 langchain_community-0.2.6 marshmallow-3.21.3 mypy-extensions-1.0.0 typing-inspect-0.9.0\n",
            "Collecting langchain_openai\n",
            "  Downloading langchain_openai-0.1.13-py3-none-any.whl (45 kB)\n",
            "\u001b[2K     \u001b[90m━━━━━━━━━━━━━━━━━━━━━━━━━━━━━━━━━━━━━━━━\u001b[0m \u001b[32m45.9/45.9 kB\u001b[0m \u001b[31m2.9 MB/s\u001b[0m eta \u001b[36m0:00:00\u001b[0m\n",
            "\u001b[?25hRequirement already satisfied: langchain-core<0.3,>=0.2.2 in /usr/local/lib/python3.10/dist-packages (from langchain_openai) (0.2.10)\n",
            "Collecting openai<2.0.0,>=1.32.0 (from langchain_openai)\n",
            "  Downloading openai-1.35.7-py3-none-any.whl (327 kB)\n",
            "\u001b[2K     \u001b[90m━━━━━━━━━━━━━━━━━━━━━━━━━━━━━━━━━━━━━━━━\u001b[0m \u001b[32m327.5/327.5 kB\u001b[0m \u001b[31m13.7 MB/s\u001b[0m eta \u001b[36m0:00:00\u001b[0m\n",
            "\u001b[?25hCollecting tiktoken<1,>=0.7 (from langchain_openai)\n",
            "  Downloading tiktoken-0.7.0-cp310-cp310-manylinux_2_17_x86_64.manylinux2014_x86_64.whl (1.1 MB)\n",
            "\u001b[2K     \u001b[90m━━━━━━━━━━━━━━━━━━━━━━━━━━━━━━━━━━━━━━━━\u001b[0m \u001b[32m1.1/1.1 MB\u001b[0m \u001b[31m51.3 MB/s\u001b[0m eta \u001b[36m0:00:00\u001b[0m\n",
            "\u001b[?25hRequirement already satisfied: PyYAML>=5.3 in /usr/local/lib/python3.10/dist-packages (from langchain-core<0.3,>=0.2.2->langchain_openai) (6.0.1)\n",
            "Requirement already satisfied: jsonpatch<2.0,>=1.33 in /usr/local/lib/python3.10/dist-packages (from langchain-core<0.3,>=0.2.2->langchain_openai) (1.33)\n",
            "Requirement already satisfied: langsmith<0.2.0,>=0.1.75 in /usr/local/lib/python3.10/dist-packages (from langchain-core<0.3,>=0.2.2->langchain_openai) (0.1.83)\n",
            "Requirement already satisfied: packaging<25,>=23.2 in /usr/local/lib/python3.10/dist-packages (from langchain-core<0.3,>=0.2.2->langchain_openai) (24.1)\n",
            "Requirement already satisfied: pydantic<3,>=1 in /usr/local/lib/python3.10/dist-packages (from langchain-core<0.3,>=0.2.2->langchain_openai) (2.7.4)\n",
            "Requirement already satisfied: tenacity!=8.4.0,<9.0.0,>=8.1.0 in /usr/local/lib/python3.10/dist-packages (from langchain-core<0.3,>=0.2.2->langchain_openai) (8.4.2)\n",
            "Requirement already satisfied: anyio<5,>=3.5.0 in /usr/local/lib/python3.10/dist-packages (from openai<2.0.0,>=1.32.0->langchain_openai) (3.7.1)\n",
            "Requirement already satisfied: distro<2,>=1.7.0 in /usr/lib/python3/dist-packages (from openai<2.0.0,>=1.32.0->langchain_openai) (1.7.0)\n",
            "Collecting httpx<1,>=0.23.0 (from openai<2.0.0,>=1.32.0->langchain_openai)\n",
            "  Downloading httpx-0.27.0-py3-none-any.whl (75 kB)\n",
            "\u001b[2K     \u001b[90m━━━━━━━━━━━━━━━━━━━━━━━━━━━━━━━━━━━━━━━━\u001b[0m \u001b[32m75.6/75.6 kB\u001b[0m \u001b[31m9.7 MB/s\u001b[0m eta \u001b[36m0:00:00\u001b[0m\n",
            "\u001b[?25hRequirement already satisfied: sniffio in /usr/local/lib/python3.10/dist-packages (from openai<2.0.0,>=1.32.0->langchain_openai) (1.3.1)\n",
            "Requirement already satisfied: tqdm>4 in /usr/local/lib/python3.10/dist-packages (from openai<2.0.0,>=1.32.0->langchain_openai) (4.66.4)\n",
            "Requirement already satisfied: typing-extensions<5,>=4.7 in /usr/local/lib/python3.10/dist-packages (from openai<2.0.0,>=1.32.0->langchain_openai) (4.12.2)\n",
            "Requirement already satisfied: regex>=2022.1.18 in /usr/local/lib/python3.10/dist-packages (from tiktoken<1,>=0.7->langchain_openai) (2024.5.15)\n",
            "Requirement already satisfied: requests>=2.26.0 in /usr/local/lib/python3.10/dist-packages (from tiktoken<1,>=0.7->langchain_openai) (2.31.0)\n",
            "Requirement already satisfied: idna>=2.8 in /usr/local/lib/python3.10/dist-packages (from anyio<5,>=3.5.0->openai<2.0.0,>=1.32.0->langchain_openai) (3.7)\n",
            "Requirement already satisfied: exceptiongroup in /usr/local/lib/python3.10/dist-packages (from anyio<5,>=3.5.0->openai<2.0.0,>=1.32.0->langchain_openai) (1.2.1)\n",
            "Requirement already satisfied: certifi in /usr/local/lib/python3.10/dist-packages (from httpx<1,>=0.23.0->openai<2.0.0,>=1.32.0->langchain_openai) (2024.6.2)\n",
            "Collecting httpcore==1.* (from httpx<1,>=0.23.0->openai<2.0.0,>=1.32.0->langchain_openai)\n",
            "  Downloading httpcore-1.0.5-py3-none-any.whl (77 kB)\n",
            "\u001b[2K     \u001b[90m━━━━━━━━━━━━━━━━━━━━━━━━━━━━━━━━━━━━━━━━\u001b[0m \u001b[32m77.9/77.9 kB\u001b[0m \u001b[31m9.1 MB/s\u001b[0m eta \u001b[36m0:00:00\u001b[0m\n",
            "\u001b[?25hCollecting h11<0.15,>=0.13 (from httpcore==1.*->httpx<1,>=0.23.0->openai<2.0.0,>=1.32.0->langchain_openai)\n",
            "  Downloading h11-0.14.0-py3-none-any.whl (58 kB)\n",
            "\u001b[2K     \u001b[90m━━━━━━━━━━━━━━━━━━━━━━━━━━━━━━━━━━━━━━━━\u001b[0m \u001b[32m58.3/58.3 kB\u001b[0m \u001b[31m7.5 MB/s\u001b[0m eta \u001b[36m0:00:00\u001b[0m\n",
            "\u001b[?25hRequirement already satisfied: jsonpointer>=1.9 in /usr/local/lib/python3.10/dist-packages (from jsonpatch<2.0,>=1.33->langchain-core<0.3,>=0.2.2->langchain_openai) (3.0.0)\n",
            "Requirement already satisfied: orjson<4.0.0,>=3.9.14 in /usr/local/lib/python3.10/dist-packages (from langsmith<0.2.0,>=0.1.75->langchain-core<0.3,>=0.2.2->langchain_openai) (3.10.5)\n",
            "Requirement already satisfied: annotated-types>=0.4.0 in /usr/local/lib/python3.10/dist-packages (from pydantic<3,>=1->langchain-core<0.3,>=0.2.2->langchain_openai) (0.7.0)\n",
            "Requirement already satisfied: pydantic-core==2.18.4 in /usr/local/lib/python3.10/dist-packages (from pydantic<3,>=1->langchain-core<0.3,>=0.2.2->langchain_openai) (2.18.4)\n",
            "Requirement already satisfied: charset-normalizer<4,>=2 in /usr/local/lib/python3.10/dist-packages (from requests>=2.26.0->tiktoken<1,>=0.7->langchain_openai) (3.3.2)\n",
            "Requirement already satisfied: urllib3<3,>=1.21.1 in /usr/local/lib/python3.10/dist-packages (from requests>=2.26.0->tiktoken<1,>=0.7->langchain_openai) (2.0.7)\n",
            "Installing collected packages: h11, tiktoken, httpcore, httpx, openai, langchain_openai\n",
            "Successfully installed h11-0.14.0 httpcore-1.0.5 httpx-0.27.0 langchain_openai-0.1.13 openai-1.35.7 tiktoken-0.7.0\n",
            "Collecting faiss-cpu\n",
            "  Downloading faiss_cpu-1.8.0.post1-cp310-cp310-manylinux_2_17_x86_64.manylinux2014_x86_64.whl (27.0 MB)\n",
            "\u001b[2K     \u001b[90m━━━━━━━━━━━━━━━━━━━━━━━━━━━━━━━━━━━━━━━━\u001b[0m \u001b[32m27.0/27.0 MB\u001b[0m \u001b[31m30.5 MB/s\u001b[0m eta \u001b[36m0:00:00\u001b[0m\n",
            "\u001b[?25hRequirement already satisfied: numpy<2.0,>=1.0 in /usr/local/lib/python3.10/dist-packages (from faiss-cpu) (1.25.2)\n",
            "Requirement already satisfied: packaging in /usr/local/lib/python3.10/dist-packages (from faiss-cpu) (24.1)\n",
            "Installing collected packages: faiss-cpu\n",
            "Successfully installed faiss-cpu-1.8.0.post1\n",
            "Collecting pypdf\n",
            "  Downloading pypdf-4.2.0-py3-none-any.whl (290 kB)\n",
            "\u001b[2K     \u001b[90m━━━━━━━━━━━━━━━━━━━━━━━━━━━━━━━━━━━━━━━━\u001b[0m \u001b[32m290.4/290.4 kB\u001b[0m \u001b[31m9.0 MB/s\u001b[0m eta \u001b[36m0:00:00\u001b[0m\n",
            "\u001b[?25hRequirement already satisfied: typing_extensions>=4.0 in /usr/local/lib/python3.10/dist-packages (from pypdf) (4.12.2)\n",
            "Installing collected packages: pypdf\n",
            "Successfully installed pypdf-4.2.0\n"
          ]
        }
      ],
      "source": [
        "!pip install -U langchain\n",
        "!pip install -U langchain_community\n",
        "!pip install -U langchain_openai\n",
        "!pip install faiss-cpu\n",
        "!pip install pypdf"
      ]
    },
    {
      "cell_type": "code",
      "source": [
        "# Fetching a document - \"Atomic habits\"\n",
        "from langchain_community.document_loaders import PyPDFLoader\n",
        "\n",
        "pdfloader = PyPDFLoader(r\"/content/GenAI---RAG-using-LangChain/Atomic_habits.pdf\")\n",
        "pdfpages = pdfloader.load_and_split()\n",
        "\n",
        "from langchain.text_splitter import CharacterTextSplitter\n",
        "from langchain_community.vectorstores import FAISS\n",
        "from langchain_openai.embeddings import OpenAIEmbeddings\n",
        "import os\n",
        "\n",
        "\n"
      ],
      "metadata": {
        "id": "2Z_cH3blLFyB"
      },
      "execution_count": 3,
      "outputs": []
    },
    {
      "cell_type": "code",
      "source": [
        "from google.colab import userdata\n",
        "sec_key=userdata.get(\"OPENAI_API_KEY\")\n",
        "print(sec_key)"
      ],
      "metadata": {
        "id": "Z8zjq5r0Oofl",
        "outputId": "503fd71f-1b82-4fb6-a64f-8033096dd780",
        "colab": {
          "base_uri": "https://localhost:8080/"
        }
      },
      "execution_count": 4,
      "outputs": [
        {
          "output_type": "stream",
          "name": "stdout",
          "text": [
            "sk-proj-xJPFWrFD0CU1P7PsRNCaT3BlbkFJY2xPYjYFMLJUIVzPjpNi\n"
          ]
        }
      ]
    },
    {
      "cell_type": "code",
      "source": [
        "import os\n",
        "os.environ[\"OPENAI_API_KEY\"] = sec_key"
      ],
      "metadata": {
        "id": "O22t8X0WOpT0"
      },
      "execution_count": 5,
      "outputs": []
    },
    {
      "cell_type": "code",
      "source": [
        "# load the document using langchain's built in extractors, formatters, loaders, embeddings, and LLMs\n",
        "\n",
        "mydocuments = pdfloader.load()\n",
        "text_splitter = CharacterTextSplitter(chunk_size=1000, chunk_overlap=0)\n",
        "texts = text_splitter.split_documents(mydocuments)\n",
        "print(texts)\n",
        "\n",
        "# using openAI default embeddingModel\n",
        "\n",
        "embeddings = OpenAIEmbeddings()\n",
        "\n",
        "# Using Langchain API function to interact with FAISS\n",
        "db = FAISS.from_documents(texts, embeddings)\n"
      ],
      "metadata": {
        "colab": {
          "base_uri": "https://localhost:8080/",
          "height": 376
        },
        "id": "Hc68gjk6O0qF",
        "outputId": "74f1157a-c07a-4687-fd73-093e1b5c4614",
        "collapsed": true
      },
      "execution_count": 6,
      "outputs": [
        {
          "output_type": "stream",
          "name": "stdout",
          "text": [
            "[Document(page_content='ATOMIC HABITS  \\n\"Atomic Habits\" is a self -help book written by James Clear. The book offers a framework for \\nbuilding good habits and breaking bad ones by focusing on small, incremental changes. The \\nmain idea is that small, consistent changes can lead to significant improvements over time. \\nClear divides habits into four parts: the cue, the craving, the response, and the reward. He \\nalso emphasizes the importance of creating an environment that supports good habits and \\nmaking the new habit as easy as possibl e to start. The book also covers the idea of \"habit \\nstacking\" which is the act of using existing habits as a cue to start a new habit. Additionally, \\nClear also talks about the idea of \"identity -based habits\" which is the idea that our habits are \\na reflecti on of who we believe we are. Overall, the book provides practical strategies for \\ncreating and maintaining habits that stick.', metadata={'source': '/content/GenAI---RAG-using-LangChain/Atomic_habits.pdf', 'page': 0}), Document(page_content='CONTENT  \\nIntroduction: The Power of Tiny Changes: The author introduces the concept of atomic habits \\nand how s mall changes in behaviour can lead to significant improvements in our lives.  \\nPart One: The Fundamentals: Clear explains the four laws of behaviour change, which are the \\ncue, the craving, the response, and the reward. He also covers the idea of \"identity -based \\nhabits\" which is the idea that our habits are a reflection of who we believe we are.  \\nPart Two: The Four Laws in Action: Clear goes over how to apply the four laws of behaviour \\nchange in practical ways. He covers topics such as how to create an environm ent that \\nsupports good habits, how to make new habits as easy as possible to start, and how to use \\nexisting habits as a cue to start new habits.  \\nPart Three: The Atomic Habits System: Clear provides a step -by-step system for building and \\nbreaking habits, including tips on how to stay motivated and how to measure progress.  \\nPart Four: The Habits of Societies: Clear talks about how habits work on a larger scale, \\nincluding in organizations and communities. He also covers the idea of \"habit cascades\" and \\nhow sm all changes can lead to large -scale changes in society.  \\nConclusion: The Impact of Atomic Habits: The author concludes the book by summarizing \\nthe main points and encouraging readers to start making small changes in their lives.', metadata={'source': '/content/GenAI---RAG-using-LangChain/Atomic_habits.pdf', 'page': 1}), Document(page_content=\"1.THE POWER  OF TINY CHANGES  \\nThe power of tiny changes refers to the idea that small, incremental changes in behaviour can \\nlead to significant improvements over time. The author, James Clear, argues that the key to \\nmaking lasting change is to focus on small, atomic ha bits that are easy to implement and \\nmaintain. By breaking down big goals into smaller, more manageable steps, you can make \\nprogress without feeling overwhelmed.  \\nClear emphasizes that small changes add up over time, and a series of tiny improvements can \\ncompound to create a significant impact. He uses the example of saving a small amount of \\nmoney each day, which over time can add up to a significant sum. Similarly, small \\nimprovements in our health, relationships, or career can have a cumulative effect.  \\nClear  also points out that tiny changes are more likely to stick compared to big, drastic \\nchanges. When we try to change too much at once, it can be overwhelming and we're more \\nlikely to give up. On the other hand, small changes are easy to maintain and can bec ome part \\nof our daily routine. As we make small improvements consistently, it builds momentum and \\nwe become more likely to stick with our new habits.  \\nIn summary, the power of tiny changes is the idea that small, incremental changes in \\nbehaviour can lead to  significant improvements over time. By focusing on small, atomic \\nhabits, we can make lasting changes without feeling overwhelmed, and by consistently \\nmaking small improvements we can compound the benefits over time.  \\n \\nHere are a few examples of how the pow er of tiny changes can be applied in different areas \\nof life:  \\nFitness: Instead of trying to go to the gym for an hour every day, start by committing to a \\nfive-minute walk every morning. Once that becomes a habit, gradually increase the duration \\nand intensi ty of the exercise.  \\nNutrition: Instead of cutting out all junk food at once, start by reducing your portion sizes or \\ncutting out one type of junk food per week.  \\nProductivity: Instead of trying to work on a big project for eight hours straight, start by \\nworking on it for just 15 minutes per day.  \\nLearning: Instead of trying to learn a new language in one go, start by learning just one new \\nword per day.  \\nWriting: Instead of trying to write a book in one go, start by writing just one sentence per \\nday. \\nOrganiz ing: Instead of trying to declutter your entire house in one day, start by decluttering \\njust one drawer or one shelf per day.  \\nIn all these examples, the power of tiny changes is applied by starting small, making the habit \\neasy to implement and maintain, an d gradually increasing the habit over time. By focusing on \\nsmall, incremental improvements, you can make lasting changes without feeling \\noverwhelmed.\", metadata={'source': '/content/GenAI---RAG-using-LangChain/Atomic_habits.pdf', 'page': 2}), Document(page_content='2.THE FUNDAMENTALS: FOUR LAWS OF BEHAVIOUR CHANGE  \\nThe four laws of behaviour change are a framework prese nted in the book \"Atomic Habits\" \\nby James Clear. These laws are designed to help individuals understand how habits are \\nformed and how to change them. The four laws are:  \\nThe Cue: This is the trigger that initiates the habit. It can be a specific time of day , a certain \\nlocation, an emotion, or any other signal that prompts the habit to start. Understanding the \\ncue can help you identify when and why you engage in certain habits.  \\nThe Craving: This is the motivation behind the habit. It is the feeling or desire that you are \\ntrying to satisfy by performing the habit. Understanding the craving can help you identify \\nwhat you are trying to achieve by performing the habit, and whether there are healthier or \\nmore effective ways to achieve that goal.  \\nThe Response: This is the habit itself, the action or behaviour that you perform in response to \\nthe cue and craving. It is the habit that you want to change or improve.  \\nThe Reward: This is the benefit that you receive from performing the habit. It is the positive \\noutcome tha t reinforces the habit, making it more likely to be repeated in the future. \\nUnderstanding the reward can help you identify whether the habit is actually providing the \\nbenefit that you desire.  \\nBy understanding these four laws of behaviour change, you can ga in insight into the habits \\nyou want to change, and create new habits that are more aligned with your goals.  \\nFor example, if you want to change your habit of watching TV every night after dinner, you \\ncan try to understand the cue, craving, response, and rew ard. The cue may be the time of day \\n(evening), the craving may be to relax, the response is watching TV, and the reward is the \\nfeeling of relaxation. Understanding these laws can help you identify healthier ways to \\nachieve the same craving, such as reading  a book or meditating, and therefore change the \\nresponse.  \\n \\nUSING BEHAVIOUR LAWS  \\nThe fundamentals and the four laws of behaviour change are designed to help individuals \\nunderstand how habits are formed and how to change them. By understanding these concepts , \\nindividuals can gain insight into their own habits and develop strategies to create new, \\npositive habits that align with their goals.  \\nUse of the fundamentals: The fundamentals refer to the basic principles of habit formation \\nand change, such as the impor tance of creating an environment that supports good habits and \\nmaking new habits as easy as possible to start. By applying these fundamentals, individuals \\ncan develop strategies to make new habits more manageable and increase the chances of them \\nsticking.  \\nUse of the four laws: The four laws of behaviour change (cue, craving, response, and reward) \\nprovide a framework for understanding the underlying mechanisms of habit formation. By', metadata={'source': '/content/GenAI---RAG-using-LangChain/Atomic_habits.pdf', 'page': 3}), Document(page_content='understanding the cue, the craving, the response, and the reward, individual s can identify the \\nspecific triggers and motivations behind their habits and develop strategies to change them.  \\nFor example, if an individual wants to change their habit of eating junk food when stressed, \\nthey can use the four laws to understand the cue (s tress), craving (to feel better), response \\n(eating junk food) and reward (feeling better temporarily). This understanding allows them to \\ncome up with a plan that addresses the craving, for example by finding alternative ways to \\ndeal with stress, like going  for a walk or meditating.  \\nIn summary, the fundamentals and the four laws of behaviour change provide a framework \\nfor understanding habits and developing strategies to change them. By applying these \\nconcepts, individuals can create new, positive habits tha t align with their goals and improve \\ntheir overall well -being.', metadata={'source': '/content/GenAI---RAG-using-LangChain/Atomic_habits.pdf', 'page': 4}), Document(page_content='3.THE FOUR LAWS IN ACTION  \\nThe four laws of behavior  change (cue, craving, response, and reward) provide a framework \\nfor understanding how habits are formed and how to change them. The \"four laws in action\" \\nrefer to the practical application of these laws to create new habits and break old ones. Here \\nare a few examples of how the four laws can be applied in practice:  \\nCreating a new habit: To create a new habit, start by identifying a cue (a specific time or \\nlocation), a craving (a desire or motivation), and a reward (the benefit you will receive from \\nthe hab it). For example, if you want to create a habit of reading for 30 minutes before bed, \\nyou could use the cue of turning off the TV as the signal to start reading, the craving for \\nrelaxation, and the reward of feeling more rested in the morning.  \\nBreaking an old habit: To break an old habit, start by identifying the cue, craving, and \\nreward. Then, find a new response that still satisfies the craving but doesn\\'t involve the old \\nhabit. For example, if you want to break the habit of snacking on junk food when bor ed, you \\ncould try identifying the cue (boredom), the craving (to feel entertained), and the reward (the \\ntaste of the junk food). To break the habit, you could try finding an alternative response such \\nas reading a book or going for a walk to satisfy the cra ving for entertainment.  \\nMaking a habit easier to start: To make a new habit easier to start, you can make the cue more \\nobvious and the behaviour more attractive. For example, if you want to start a habit of \\nexercising in the morning, you could put your wor kout clothes next to your bed the night \\nbefore to make the cue more obvious, and find a workout partner or a type of exercise you \\nenjoy to make the behaviour more attractive.  \\nMaking a habit harder to perform: To make an old habit harder to perform, you can  make the \\ncue less obvious and the behaviour less attractive. For example, if you want to stop the habit \\nof checking your phone first thing in the morning, you could put your phone in another room \\novernight to make the cue less obvious and find an alternat ive activity to do first thing in the \\nmorning to make the behaviour less attractive.  \\nIn summary, the four laws in action refer to the practical application of the four laws of \\nbehaviour change to create new habits, break old ones, make a new habit easier t o start and \\nmake an old habit harder to perform. By understanding and applying these laws, individuals \\ncan gain insight into their habits and develop strategies to change them in a sustainable way.  \\n \\nDAILY LIFE ACTION  \\nThe four laws of behavior change can be  applied in daily life to create new habits and break \\nold ones. Here are a few examples of how the four laws can be used in different aspects of \\ndaily life:  \\nHealth: To create a new habit of exercising regularly, you can use the cue of your daily \\nschedule, the craving for improved health and fitness, and the reward of feeling stronger and \\nmore energized. To break the habit of overeating, you can identify the cue (boredom, stress), \\nthe craving (comfort), and the reward (feeling full) and find an alternative r esponse that still \\nsatisfies the craving such as drinking water or going for a walk', metadata={'source': '/content/GenAI---RAG-using-LangChain/Atomic_habits.pdf', 'page': 5}), Document(page_content='Productivity: To create a new habit of staying focused on your work, you can use the cue of a \\nspecific time of day, the craving for productivity, and the reward of completi ng your work on \\ntime. To break the habit of procrastination, you can identify the cue (boredom, lack of \\nmotivation), the craving (entertainment), and the reward (feeling relaxed) and find an \\nalternative response such as taking a short break or doing a quic k task to satisfy the craving.  \\nPersonal development: To create a new habit of reading a book every day, you can use the \\ncue of your daily routine, the craving for self -improvement, and the reward of gaining new \\nknowledge and insights. To break the habit of  watching too much TV, you can identify the \\ncue (boredom), the craving (entertainment), and the reward (relaxation) and find an \\nalternative response such as reading a book or meditating.  \\nRelationship: To create a new habit of spending quality time with you r partner, you can use \\nthe cue of a specific time of day, the craving for emotional connection, and the reward of \\nfeeling closer to your partner. To break the habit of neglecting your friends, you can identify \\nthe cue (busy schedule), the craving (privacy) , and the reward (relaxation) and find an \\nalternative response such as inviting a friend over or scheduling a video call.  \\nIn summary, the four laws of behavior change can be applied in daily life to create new habits \\nand break old ones by identifying the c ue, craving, response, and reward. By understanding \\nthese laws, individuals can gain insight into their habits and develop strategies to change \\nthem in a sustainable way, improving the quality of their daily life.', metadata={'source': '/content/GenAI---RAG-using-LangChain/Atomic_habits.pdf', 'page': 6}), Document(page_content='4.ATOMIC HABITS SYSTEM  \\nThe atomic habits system is a step -by-step system for building and breaking habits, presented \\nin the book \"Atomic Habits\" by James Clear. The system is based on the four laws of \\nbehavior change (cue, craving, response, and reward) and the fundamental princ iples of habit \\nformation and change. The main idea of the system is that small, consistent changes can lead \\nto significant improvements over time.  \\nThe system includes several key elements:  \\nMake it obvious: The first step is to make the cue for a new habit as obvious as possible. This \\ncan be done by creating a reminder or making the cue a part of your daily routine.  \\nMake it attractive: The second step is to make the behavior as attractive as possible. This can \\nbe done by finding a way to make the habit enjoy able or by linking it to a reward.  \\nMake it easy: The third step is to make the behavior as easy as possible to start. This can be \\ndone by removing obstacles and simplifying the process.  \\nMake it satisfying: The fourth step is to make the reward as satisfyin g as possible. This can \\nbe done by finding a way to make the habit more rewarding or by increasing the frequency of \\nthe reward.  \\nTrack your progress: The final step is to track your progress and measure the results. This can \\nbe done by keeping a journal or by setting small, measurable goals.  \\nBy following these steps and consistently making small changes, individuals can create new \\nhabits and break old ones in a sustainable way. Clear also emphasizes the importance of \\nbeing patient and persistent, and to not get discouraged if progress is slow. The system is not \\na one time solution but rather a continuous process of improvement.  \\nThe atomic habits system is a practical, actionable guide for creating and maintaining habits \\nthat stick. By focusing on small, incre mental changes and following these steps, individuals \\ncan make lasting changes in their lives and achieve their goals.  \\n \\nHere are a few examples of how the atomic habits system can be applied in different areas of \\nlife: \\nFitness: To create a new habit of exercising regularly, you can make the cue obvious by \\nputting your workout clothes next to your bed the night before, make the behavior attractive \\nby finding a type of exercise you enjoy, make it easy by starting with a sm all, manageable \\ngoal (such as a five -minute walk), and make it satisfying by rewarding yourself with a \\nhealthy treat or some time to relax after each workout.  \\nNutrition: To create a new habit of eating healthier, you can make the cue obvious by \\npreparing h ealthy meals in advance, make the behavior attractive by experimenting with new \\nrecipes and flavors, make it easy by keeping healthy snacks on hand, and make it satisfying \\nby noticing the improvement in your energy levels and overall health.  \\nProductivity: To create a new habit of staying focused on your work, you can make the cue \\nobvious by setting a specific time of day to work, make the behavior attractive by finding a', metadata={'source': '/content/GenAI---RAG-using-LangChain/Atomic_habits.pdf', 'page': 7}), Document(page_content=\"way to make the work more interesting, make it easy by breaking the work into small, \\nmanageable tasks, and make it satisfying by setting small, measurable goals and rewarding \\nyourself when you reach them.  \\nPersonal development: To create a new habit of reading a book every day, you can make the \\ncue obvious by setting a specific time of day fo r reading, make the behavior attractive by \\nchoosing books that you're genuinely interested in, make it easy by starting with a small goal \\n(such as reading a few pages per day), and make it satisfying by learning new information \\nand insights.  \\nRelationship: To create a new habit of spending quality time with your partner, you can make \\nthe cue obvious by scheduling a specific time of day, make the behavior attractive by \\nplanning activities that you both enjoy, make it easy by setting a reminder, and make it \\nsatisfying by focusing on the emotional connection and feeling closer to your partner.  \\nIn all these examples, the atomic habits system is applied by making the cue obvious, the \\nbehavior attractive, easy to start and satisfying, and tracking the progress. By following these \\nsteps and consistently making small changes, individuals can create new habits and break old \\nones in a sustainable way.\", metadata={'source': '/content/GenAI---RAG-using-LangChain/Atomic_habits.pdf', 'page': 8}), Document(page_content='5.THE HABITS OF SOCIETIES  \\nThe habits of societies refer to the shared habits, customs, and behaviors  that are common \\namong members of a particular group or community. These habits shape the culture and \\nfunctioning of a society and can have a significant impact on the well -being of its members.  \\nIn \"Atomic Habits,\" James Clear argues that habits are not ju st personal, but also collective. \\nHe states that the same principles that apply to forming and changing personal habits also \\napply to the habits of society. By understanding how habits work on a larger scale, we can \\ncreate change in organizations, communit ies, and even entire societies.  \\nClear suggests that small changes in individual habits can lead to large -scale changes in \\nsociety through something called \"habit cascades.\" A habit cascade is a chain reaction of \\nhabits that occur when one person\\'s habits p ositively influence the habits of those around \\nthem. For example, when one person in a community starts to recycle, others may be more \\nlikely to do the same, which in turn can lead to a community -wide increase in recycling.  \\nHe also talks about the role of leaders in shaping the habits of society. By setting an example \\nand promoting positive habits, leaders can inspire others to adopt similar habits. Clear \\nprovides examples of how leaders, like coaches, managers, or politicians, can leverage the \\npower of ato mic habits to change the culture within their organization or community.  \\nHere are a few examples of how the habits of societies can shape culture and functioning:  \\nHealth: A society with a habit of regularly exercising and eating healthy can have lower rate s \\nof obesity, diabetes, and heart disease.  \\nProductivity: A society with a habit of hard work and perseverance can have a strong \\neconomy and a high standard of living.  \\nEducation: A society with a habit of valuing education can have a high literacy rate and a \\nhighly educated workforce.  \\nEnvironment: A society with a habit of recycling and taking care of the environment can have \\na cleaner and healthier environment.  \\nSocial Interaction: A society with a habit of respect and kindness towards others can have a \\nmore  harmonious and inclusive community.  \\nThese are just a few examples of how the habits of societies can shape the culture and \\nfunctioning of a group or community. The habits of societies can also have a negative impact, \\nfor example, a society with a habit of  overeating and lack of physical activity can have higher \\nrates of obesity and related health issues. Therefore, it\\'s important for societies to be aware of \\ntheir habits and make conscious efforts to change or maintain habits that lead to a better \\nsociety.  \\n \\nUSING OF HABITS OF SOCIETIES  \\nThe habits of societies can be used in a variety of ways to improve the culture and \\nfunctioning of a group or community. Here are a few examples of how the habits of societies \\ncan be used:', metadata={'source': '/content/GenAI---RAG-using-LangChain/Atomic_habits.pdf', 'page': 9}), Document(page_content='Public policies: Governments can use  the habits of societies to create public policies that \\npromote positive habits and discourage negative ones. For example, policies that encourage \\nphysical activity, such as building bike lanes and parks, can help create a habit of regular \\nexercise in a so ciety.  \\nSocial movements: Social movements can use the habits of societies to promote positive \\nchange. For example, a movement that promotes recycling and environmental sustainability \\ncan help create a habit of environmental responsibility in a society.  \\nBusinesses: Businesses can use the habits of societies to improve their operations and \\ncustomer service. For example, a business that promotes a habit of punctuality can improve \\nits efficiency and customer satisfaction.  \\nNon-profit organizations: Non -profit or ganizations can use the habits of societies to achieve \\ntheir goals. For example, an organization that promotes a habit of charitable giving can \\nincrease donations and support for their cause.  \\nEducation: Educational institutions can use the habits of societ ies to shape the culture of their \\nschools and improve the learning experience for students. For example, by promoting a habit \\nof critical thinking, educators can encourage students to think critically and independently, \\nwhich can lead to better academic pe rformance.', metadata={'source': '/content/GenAI---RAG-using-LangChain/Atomic_habits.pdf', 'page': 10}), Document(page_content='6.IMPACT OF ATOMIC HABITS  \\nhe last chapter of \"Atomic Habits\" by James Clear is titled \"The Compound Effect.\" In this \\nchapter, Clear emphasizes the power of small, consistent changes over time and how they can \\nlead to significant improvements in our lives. He uses the metaphor of a compound interest to \\nexplain how small actions compound over time, creating exponential growth.  \\nClear argues that the key to achieving long -term success is to focus on making small, \\nconsisten t improvements every day. He emphasizes that the most successful people are not \\nthe ones with the most talent or the best luck, but rather the ones who are able to consistently \\nmake small, positive changes in their lives.  \\nClear also stresses the importance  of having a long -term perspective when it comes to making \\nchanges in our lives. He explains that the benefits of small changes may not be immediately \\nvisible, but over time they can add up to create significant improvements. Clear also mentions \\nthat the k ey is to be patient and persistent and not to get discourage by the lack of immediate \\nresults.  \\nIn summary, the last chapter of \"Atomic Habits\" emphasizes the power of small, consistent \\nchanges over time and how they can lead to significant improvements in our lives. Clear \\nemphasizes the importance of having a long -term perspective and being patient and persistent \\nin our efforts to make positive changes in our lives.', metadata={'source': '/content/GenAI---RAG-using-LangChain/Atomic_habits.pdf', 'page': 11}), Document(page_content='SUMMARY  \\nIn conclusion, \"Atomic Habits\" is a comprehensive guide for underst anding and changing \\nhabits. The book provides a practical, actionable framework for creating and maintaining \\nhabits that stick, and emphasizes the power of small, consistent changes over time. The \\nauthor, James Clear, emphasizes the importance of understan ding the four laws of behaviour \\nchange (cue, craving, response, and reward) and the fundamental principles of habit \\nformation and change. He also emphasizes the role of leaders in shaping the habits of society \\nand the importance of having a long -term persp ective when it comes to making changes in \\nour lives.  \\nHere are a few quotes from the book that summarize key concepts:  \\n\"Habits are the compound interest of self -improvement. The same way that money multiplies \\nthrough compound interest, the effects of your habits multiply as you repeat them.\"  \\n\\uf0b7 \"The most effective way to change a habit is to join an environment where the \\ndesired behaviour is the normal behaviour.\"  \\n\\uf0b7 \"You do not rise to the level of your goals. You fall to the level of your systems.\"  \\n\\uf0b7 \"Small changes in our behaviour can lead to significant improvements over time.\"  \\n\\uf0b7 \"Success is the product of daily habits, not once -in-a-lifetime transformations.\"  \\n\\uf0b7 \"The most powerful outcomes of any compounding process are delayed. You need \\nto be patient.\"  \\nOverall , \"Atomic Habits\" provides valuable insights and strategies for creating and \\nmaintaining positive habits in our lives and in society, and the importance of being patient \\nand persistent in our efforts to make positive changes.', metadata={'source': '/content/GenAI---RAG-using-LangChain/Atomic_habits.pdf', 'page': 12})]\n"
          ]
        },
        {
          "output_type": "error",
          "ename": "RateLimitError",
          "evalue": "Error code: 429 - {'error': {'message': 'You exceeded your current quota, please check your plan and billing details. For more information on this error, read the docs: https://platform.openai.com/docs/guides/error-codes/api-errors.', 'type': 'insufficient_quota', 'param': None, 'code': 'insufficient_quota'}}",
          "traceback": [
            "\u001b[0;31m---------------------------------------------------------------------------\u001b[0m",
            "\u001b[0;31mRateLimitError\u001b[0m                            Traceback (most recent call last)",
            "\u001b[0;32m<ipython-input-6-1c05d07ac2a3>\u001b[0m in \u001b[0;36m<cell line: 13>\u001b[0;34m()\u001b[0m\n\u001b[1;32m     11\u001b[0m \u001b[0;34m\u001b[0m\u001b[0m\n\u001b[1;32m     12\u001b[0m \u001b[0;31m# Using Langchain API function to interact with FAISS\u001b[0m\u001b[0;34m\u001b[0m\u001b[0;34m\u001b[0m\u001b[0m\n\u001b[0;32m---> 13\u001b[0;31m \u001b[0mdb\u001b[0m \u001b[0;34m=\u001b[0m \u001b[0mFAISS\u001b[0m\u001b[0;34m.\u001b[0m\u001b[0mfrom_documents\u001b[0m\u001b[0;34m(\u001b[0m\u001b[0mtexts\u001b[0m\u001b[0;34m,\u001b[0m \u001b[0membeddings\u001b[0m\u001b[0;34m)\u001b[0m\u001b[0;34m\u001b[0m\u001b[0;34m\u001b[0m\u001b[0m\n\u001b[0m",
            "\u001b[0;32m/usr/local/lib/python3.10/dist-packages/langchain_core/vectorstores.py\u001b[0m in \u001b[0;36mfrom_documents\u001b[0;34m(cls, documents, embedding, **kwargs)\u001b[0m\n\u001b[1;32m    633\u001b[0m         \u001b[0mtexts\u001b[0m \u001b[0;34m=\u001b[0m \u001b[0;34m[\u001b[0m\u001b[0md\u001b[0m\u001b[0;34m.\u001b[0m\u001b[0mpage_content\u001b[0m \u001b[0;32mfor\u001b[0m \u001b[0md\u001b[0m \u001b[0;32min\u001b[0m \u001b[0mdocuments\u001b[0m\u001b[0;34m]\u001b[0m\u001b[0;34m\u001b[0m\u001b[0;34m\u001b[0m\u001b[0m\n\u001b[1;32m    634\u001b[0m         \u001b[0mmetadatas\u001b[0m \u001b[0;34m=\u001b[0m \u001b[0;34m[\u001b[0m\u001b[0md\u001b[0m\u001b[0;34m.\u001b[0m\u001b[0mmetadata\u001b[0m \u001b[0;32mfor\u001b[0m \u001b[0md\u001b[0m \u001b[0;32min\u001b[0m \u001b[0mdocuments\u001b[0m\u001b[0;34m]\u001b[0m\u001b[0;34m\u001b[0m\u001b[0;34m\u001b[0m\u001b[0m\n\u001b[0;32m--> 635\u001b[0;31m         \u001b[0;32mreturn\u001b[0m \u001b[0mcls\u001b[0m\u001b[0;34m.\u001b[0m\u001b[0mfrom_texts\u001b[0m\u001b[0;34m(\u001b[0m\u001b[0mtexts\u001b[0m\u001b[0;34m,\u001b[0m \u001b[0membedding\u001b[0m\u001b[0;34m,\u001b[0m \u001b[0mmetadatas\u001b[0m\u001b[0;34m=\u001b[0m\u001b[0mmetadatas\u001b[0m\u001b[0;34m,\u001b[0m \u001b[0;34m**\u001b[0m\u001b[0mkwargs\u001b[0m\u001b[0;34m)\u001b[0m\u001b[0;34m\u001b[0m\u001b[0;34m\u001b[0m\u001b[0m\n\u001b[0m\u001b[1;32m    636\u001b[0m \u001b[0;34m\u001b[0m\u001b[0m\n\u001b[1;32m    637\u001b[0m     \u001b[0;34m@\u001b[0m\u001b[0mclassmethod\u001b[0m\u001b[0;34m\u001b[0m\u001b[0;34m\u001b[0m\u001b[0m\n",
            "\u001b[0;32m/usr/local/lib/python3.10/dist-packages/langchain_community/vectorstores/faiss.py\u001b[0m in \u001b[0;36mfrom_texts\u001b[0;34m(cls, texts, embedding, metadatas, ids, **kwargs)\u001b[0m\n\u001b[1;32m    928\u001b[0m                 \u001b[0mfaiss\u001b[0m \u001b[0;34m=\u001b[0m \u001b[0mFAISS\u001b[0m\u001b[0;34m.\u001b[0m\u001b[0mfrom_texts\u001b[0m\u001b[0;34m(\u001b[0m\u001b[0mtexts\u001b[0m\u001b[0;34m,\u001b[0m \u001b[0membeddings\u001b[0m\u001b[0;34m)\u001b[0m\u001b[0;34m\u001b[0m\u001b[0;34m\u001b[0m\u001b[0m\n\u001b[1;32m    929\u001b[0m         \"\"\"\n\u001b[0;32m--> 930\u001b[0;31m         \u001b[0membeddings\u001b[0m \u001b[0;34m=\u001b[0m \u001b[0membedding\u001b[0m\u001b[0;34m.\u001b[0m\u001b[0membed_documents\u001b[0m\u001b[0;34m(\u001b[0m\u001b[0mtexts\u001b[0m\u001b[0;34m)\u001b[0m\u001b[0;34m\u001b[0m\u001b[0;34m\u001b[0m\u001b[0m\n\u001b[0m\u001b[1;32m    931\u001b[0m         return cls.__from(\n\u001b[1;32m    932\u001b[0m             \u001b[0mtexts\u001b[0m\u001b[0;34m,\u001b[0m\u001b[0;34m\u001b[0m\u001b[0;34m\u001b[0m\u001b[0m\n",
            "\u001b[0;32m/usr/local/lib/python3.10/dist-packages/langchain_openai/embeddings/base.py\u001b[0m in \u001b[0;36membed_documents\u001b[0;34m(self, texts, chunk_size)\u001b[0m\n\u001b[1;32m    524\u001b[0m         \u001b[0;31m#       than the maximum context and use length-safe embedding function.\u001b[0m\u001b[0;34m\u001b[0m\u001b[0;34m\u001b[0m\u001b[0m\n\u001b[1;32m    525\u001b[0m         \u001b[0mengine\u001b[0m \u001b[0;34m=\u001b[0m \u001b[0mcast\u001b[0m\u001b[0;34m(\u001b[0m\u001b[0mstr\u001b[0m\u001b[0;34m,\u001b[0m \u001b[0mself\u001b[0m\u001b[0;34m.\u001b[0m\u001b[0mdeployment\u001b[0m\u001b[0;34m)\u001b[0m\u001b[0;34m\u001b[0m\u001b[0;34m\u001b[0m\u001b[0m\n\u001b[0;32m--> 526\u001b[0;31m         \u001b[0;32mreturn\u001b[0m \u001b[0mself\u001b[0m\u001b[0;34m.\u001b[0m\u001b[0m_get_len_safe_embeddings\u001b[0m\u001b[0;34m(\u001b[0m\u001b[0mtexts\u001b[0m\u001b[0;34m,\u001b[0m \u001b[0mengine\u001b[0m\u001b[0;34m=\u001b[0m\u001b[0mengine\u001b[0m\u001b[0;34m)\u001b[0m\u001b[0;34m\u001b[0m\u001b[0;34m\u001b[0m\u001b[0m\n\u001b[0m\u001b[1;32m    527\u001b[0m \u001b[0;34m\u001b[0m\u001b[0m\n\u001b[1;32m    528\u001b[0m     async def aembed_documents(\n",
            "\u001b[0;32m/usr/local/lib/python3.10/dist-packages/langchain_openai/embeddings/base.py\u001b[0m in \u001b[0;36m_get_len_safe_embeddings\u001b[0;34m(self, texts, engine, chunk_size)\u001b[0m\n\u001b[1;32m    422\u001b[0m         \u001b[0mbatched_embeddings\u001b[0m\u001b[0;34m:\u001b[0m \u001b[0mList\u001b[0m\u001b[0;34m[\u001b[0m\u001b[0mList\u001b[0m\u001b[0;34m[\u001b[0m\u001b[0mfloat\u001b[0m\u001b[0;34m]\u001b[0m\u001b[0;34m]\u001b[0m \u001b[0;34m=\u001b[0m \u001b[0;34m[\u001b[0m\u001b[0;34m]\u001b[0m\u001b[0;34m\u001b[0m\u001b[0;34m\u001b[0m\u001b[0m\n\u001b[1;32m    423\u001b[0m         \u001b[0;32mfor\u001b[0m \u001b[0mi\u001b[0m \u001b[0;32min\u001b[0m \u001b[0m_iter\u001b[0m\u001b[0;34m:\u001b[0m\u001b[0;34m\u001b[0m\u001b[0;34m\u001b[0m\u001b[0m\n\u001b[0;32m--> 424\u001b[0;31m             response = self.client.create(\n\u001b[0m\u001b[1;32m    425\u001b[0m                 \u001b[0minput\u001b[0m\u001b[0;34m=\u001b[0m\u001b[0mtokens\u001b[0m\u001b[0;34m[\u001b[0m\u001b[0mi\u001b[0m \u001b[0;34m:\u001b[0m \u001b[0mi\u001b[0m \u001b[0;34m+\u001b[0m \u001b[0m_chunk_size\u001b[0m\u001b[0;34m]\u001b[0m\u001b[0;34m,\u001b[0m \u001b[0;34m**\u001b[0m\u001b[0mself\u001b[0m\u001b[0;34m.\u001b[0m\u001b[0m_invocation_params\u001b[0m\u001b[0;34m\u001b[0m\u001b[0;34m\u001b[0m\u001b[0m\n\u001b[1;32m    426\u001b[0m             )\n",
            "\u001b[0;32m/usr/local/lib/python3.10/dist-packages/openai/resources/embeddings.py\u001b[0m in \u001b[0;36mcreate\u001b[0;34m(self, input, model, dimensions, encoding_format, user, extra_headers, extra_query, extra_body, timeout)\u001b[0m\n\u001b[1;32m    112\u001b[0m             \u001b[0;32mreturn\u001b[0m \u001b[0mobj\u001b[0m\u001b[0;34m\u001b[0m\u001b[0;34m\u001b[0m\u001b[0m\n\u001b[1;32m    113\u001b[0m \u001b[0;34m\u001b[0m\u001b[0m\n\u001b[0;32m--> 114\u001b[0;31m         return self._post(\n\u001b[0m\u001b[1;32m    115\u001b[0m             \u001b[0;34m\"/embeddings\"\u001b[0m\u001b[0;34m,\u001b[0m\u001b[0;34m\u001b[0m\u001b[0;34m\u001b[0m\u001b[0m\n\u001b[1;32m    116\u001b[0m             \u001b[0mbody\u001b[0m\u001b[0;34m=\u001b[0m\u001b[0mmaybe_transform\u001b[0m\u001b[0;34m(\u001b[0m\u001b[0mparams\u001b[0m\u001b[0;34m,\u001b[0m \u001b[0membedding_create_params\u001b[0m\u001b[0;34m.\u001b[0m\u001b[0mEmbeddingCreateParams\u001b[0m\u001b[0;34m)\u001b[0m\u001b[0;34m,\u001b[0m\u001b[0;34m\u001b[0m\u001b[0;34m\u001b[0m\u001b[0m\n",
            "\u001b[0;32m/usr/local/lib/python3.10/dist-packages/openai/_base_client.py\u001b[0m in \u001b[0;36mpost\u001b[0;34m(self, path, cast_to, body, options, files, stream, stream_cls)\u001b[0m\n\u001b[1;32m   1248\u001b[0m             \u001b[0mmethod\u001b[0m\u001b[0;34m=\u001b[0m\u001b[0;34m\"post\"\u001b[0m\u001b[0;34m,\u001b[0m \u001b[0murl\u001b[0m\u001b[0;34m=\u001b[0m\u001b[0mpath\u001b[0m\u001b[0;34m,\u001b[0m \u001b[0mjson_data\u001b[0m\u001b[0;34m=\u001b[0m\u001b[0mbody\u001b[0m\u001b[0;34m,\u001b[0m \u001b[0mfiles\u001b[0m\u001b[0;34m=\u001b[0m\u001b[0mto_httpx_files\u001b[0m\u001b[0;34m(\u001b[0m\u001b[0mfiles\u001b[0m\u001b[0;34m)\u001b[0m\u001b[0;34m,\u001b[0m \u001b[0;34m**\u001b[0m\u001b[0moptions\u001b[0m\u001b[0;34m\u001b[0m\u001b[0;34m\u001b[0m\u001b[0m\n\u001b[1;32m   1249\u001b[0m         )\n\u001b[0;32m-> 1250\u001b[0;31m         \u001b[0;32mreturn\u001b[0m \u001b[0mcast\u001b[0m\u001b[0;34m(\u001b[0m\u001b[0mResponseT\u001b[0m\u001b[0;34m,\u001b[0m \u001b[0mself\u001b[0m\u001b[0;34m.\u001b[0m\u001b[0mrequest\u001b[0m\u001b[0;34m(\u001b[0m\u001b[0mcast_to\u001b[0m\u001b[0;34m,\u001b[0m \u001b[0mopts\u001b[0m\u001b[0;34m,\u001b[0m \u001b[0mstream\u001b[0m\u001b[0;34m=\u001b[0m\u001b[0mstream\u001b[0m\u001b[0;34m,\u001b[0m \u001b[0mstream_cls\u001b[0m\u001b[0;34m=\u001b[0m\u001b[0mstream_cls\u001b[0m\u001b[0;34m)\u001b[0m\u001b[0;34m)\u001b[0m\u001b[0;34m\u001b[0m\u001b[0;34m\u001b[0m\u001b[0m\n\u001b[0m\u001b[1;32m   1251\u001b[0m \u001b[0;34m\u001b[0m\u001b[0m\n\u001b[1;32m   1252\u001b[0m     def patch(\n",
            "\u001b[0;32m/usr/local/lib/python3.10/dist-packages/openai/_base_client.py\u001b[0m in \u001b[0;36mrequest\u001b[0;34m(self, cast_to, options, remaining_retries, stream, stream_cls)\u001b[0m\n\u001b[1;32m    929\u001b[0m         \u001b[0mstream_cls\u001b[0m\u001b[0;34m:\u001b[0m \u001b[0mtype\u001b[0m\u001b[0;34m[\u001b[0m\u001b[0m_StreamT\u001b[0m\u001b[0;34m]\u001b[0m \u001b[0;34m|\u001b[0m \u001b[0;32mNone\u001b[0m \u001b[0;34m=\u001b[0m \u001b[0;32mNone\u001b[0m\u001b[0;34m,\u001b[0m\u001b[0;34m\u001b[0m\u001b[0;34m\u001b[0m\u001b[0m\n\u001b[1;32m    930\u001b[0m     ) -> ResponseT | _StreamT:\n\u001b[0;32m--> 931\u001b[0;31m         return self._request(\n\u001b[0m\u001b[1;32m    932\u001b[0m             \u001b[0mcast_to\u001b[0m\u001b[0;34m=\u001b[0m\u001b[0mcast_to\u001b[0m\u001b[0;34m,\u001b[0m\u001b[0;34m\u001b[0m\u001b[0;34m\u001b[0m\u001b[0m\n\u001b[1;32m    933\u001b[0m             \u001b[0moptions\u001b[0m\u001b[0;34m=\u001b[0m\u001b[0moptions\u001b[0m\u001b[0;34m,\u001b[0m\u001b[0;34m\u001b[0m\u001b[0;34m\u001b[0m\u001b[0m\n",
            "\u001b[0;32m/usr/local/lib/python3.10/dist-packages/openai/_base_client.py\u001b[0m in \u001b[0;36m_request\u001b[0;34m(self, cast_to, options, remaining_retries, stream, stream_cls)\u001b[0m\n\u001b[1;32m   1013\u001b[0m             \u001b[0;32mif\u001b[0m \u001b[0mretries\u001b[0m \u001b[0;34m>\u001b[0m \u001b[0;36m0\u001b[0m \u001b[0;32mand\u001b[0m \u001b[0mself\u001b[0m\u001b[0;34m.\u001b[0m\u001b[0m_should_retry\u001b[0m\u001b[0;34m(\u001b[0m\u001b[0merr\u001b[0m\u001b[0;34m.\u001b[0m\u001b[0mresponse\u001b[0m\u001b[0;34m)\u001b[0m\u001b[0;34m:\u001b[0m\u001b[0;34m\u001b[0m\u001b[0;34m\u001b[0m\u001b[0m\n\u001b[1;32m   1014\u001b[0m                 \u001b[0merr\u001b[0m\u001b[0;34m.\u001b[0m\u001b[0mresponse\u001b[0m\u001b[0;34m.\u001b[0m\u001b[0mclose\u001b[0m\u001b[0;34m(\u001b[0m\u001b[0;34m)\u001b[0m\u001b[0;34m\u001b[0m\u001b[0;34m\u001b[0m\u001b[0m\n\u001b[0;32m-> 1015\u001b[0;31m                 return self._retry_request(\n\u001b[0m\u001b[1;32m   1016\u001b[0m                     \u001b[0moptions\u001b[0m\u001b[0;34m,\u001b[0m\u001b[0;34m\u001b[0m\u001b[0;34m\u001b[0m\u001b[0m\n\u001b[1;32m   1017\u001b[0m                     \u001b[0mcast_to\u001b[0m\u001b[0;34m,\u001b[0m\u001b[0;34m\u001b[0m\u001b[0;34m\u001b[0m\u001b[0m\n",
            "\u001b[0;32m/usr/local/lib/python3.10/dist-packages/openai/_base_client.py\u001b[0m in \u001b[0;36m_retry_request\u001b[0;34m(self, options, cast_to, remaining_retries, response_headers, stream, stream_cls)\u001b[0m\n\u001b[1;32m   1061\u001b[0m         \u001b[0mtime\u001b[0m\u001b[0;34m.\u001b[0m\u001b[0msleep\u001b[0m\u001b[0;34m(\u001b[0m\u001b[0mtimeout\u001b[0m\u001b[0;34m)\u001b[0m\u001b[0;34m\u001b[0m\u001b[0;34m\u001b[0m\u001b[0m\n\u001b[1;32m   1062\u001b[0m \u001b[0;34m\u001b[0m\u001b[0m\n\u001b[0;32m-> 1063\u001b[0;31m         return self._request(\n\u001b[0m\u001b[1;32m   1064\u001b[0m             \u001b[0moptions\u001b[0m\u001b[0;34m=\u001b[0m\u001b[0moptions\u001b[0m\u001b[0;34m,\u001b[0m\u001b[0;34m\u001b[0m\u001b[0;34m\u001b[0m\u001b[0m\n\u001b[1;32m   1065\u001b[0m             \u001b[0mcast_to\u001b[0m\u001b[0;34m=\u001b[0m\u001b[0mcast_to\u001b[0m\u001b[0;34m,\u001b[0m\u001b[0;34m\u001b[0m\u001b[0;34m\u001b[0m\u001b[0m\n",
            "\u001b[0;32m/usr/local/lib/python3.10/dist-packages/openai/_base_client.py\u001b[0m in \u001b[0;36m_request\u001b[0;34m(self, cast_to, options, remaining_retries, stream, stream_cls)\u001b[0m\n\u001b[1;32m   1013\u001b[0m             \u001b[0;32mif\u001b[0m \u001b[0mretries\u001b[0m \u001b[0;34m>\u001b[0m \u001b[0;36m0\u001b[0m \u001b[0;32mand\u001b[0m \u001b[0mself\u001b[0m\u001b[0;34m.\u001b[0m\u001b[0m_should_retry\u001b[0m\u001b[0;34m(\u001b[0m\u001b[0merr\u001b[0m\u001b[0;34m.\u001b[0m\u001b[0mresponse\u001b[0m\u001b[0;34m)\u001b[0m\u001b[0;34m:\u001b[0m\u001b[0;34m\u001b[0m\u001b[0;34m\u001b[0m\u001b[0m\n\u001b[1;32m   1014\u001b[0m                 \u001b[0merr\u001b[0m\u001b[0;34m.\u001b[0m\u001b[0mresponse\u001b[0m\u001b[0;34m.\u001b[0m\u001b[0mclose\u001b[0m\u001b[0;34m(\u001b[0m\u001b[0;34m)\u001b[0m\u001b[0;34m\u001b[0m\u001b[0;34m\u001b[0m\u001b[0m\n\u001b[0;32m-> 1015\u001b[0;31m                 return self._retry_request(\n\u001b[0m\u001b[1;32m   1016\u001b[0m                     \u001b[0moptions\u001b[0m\u001b[0;34m,\u001b[0m\u001b[0;34m\u001b[0m\u001b[0;34m\u001b[0m\u001b[0m\n\u001b[1;32m   1017\u001b[0m                     \u001b[0mcast_to\u001b[0m\u001b[0;34m,\u001b[0m\u001b[0;34m\u001b[0m\u001b[0;34m\u001b[0m\u001b[0m\n",
            "\u001b[0;32m/usr/local/lib/python3.10/dist-packages/openai/_base_client.py\u001b[0m in \u001b[0;36m_retry_request\u001b[0;34m(self, options, cast_to, remaining_retries, response_headers, stream, stream_cls)\u001b[0m\n\u001b[1;32m   1061\u001b[0m         \u001b[0mtime\u001b[0m\u001b[0;34m.\u001b[0m\u001b[0msleep\u001b[0m\u001b[0;34m(\u001b[0m\u001b[0mtimeout\u001b[0m\u001b[0;34m)\u001b[0m\u001b[0;34m\u001b[0m\u001b[0;34m\u001b[0m\u001b[0m\n\u001b[1;32m   1062\u001b[0m \u001b[0;34m\u001b[0m\u001b[0m\n\u001b[0;32m-> 1063\u001b[0;31m         return self._request(\n\u001b[0m\u001b[1;32m   1064\u001b[0m             \u001b[0moptions\u001b[0m\u001b[0;34m=\u001b[0m\u001b[0moptions\u001b[0m\u001b[0;34m,\u001b[0m\u001b[0;34m\u001b[0m\u001b[0;34m\u001b[0m\u001b[0m\n\u001b[1;32m   1065\u001b[0m             \u001b[0mcast_to\u001b[0m\u001b[0;34m=\u001b[0m\u001b[0mcast_to\u001b[0m\u001b[0;34m,\u001b[0m\u001b[0;34m\u001b[0m\u001b[0;34m\u001b[0m\u001b[0m\n",
            "\u001b[0;32m/usr/local/lib/python3.10/dist-packages/openai/_base_client.py\u001b[0m in \u001b[0;36m_request\u001b[0;34m(self, cast_to, options, remaining_retries, stream, stream_cls)\u001b[0m\n\u001b[1;32m   1028\u001b[0m \u001b[0;34m\u001b[0m\u001b[0m\n\u001b[1;32m   1029\u001b[0m             \u001b[0mlog\u001b[0m\u001b[0;34m.\u001b[0m\u001b[0mdebug\u001b[0m\u001b[0;34m(\u001b[0m\u001b[0;34m\"Re-raising status error\"\u001b[0m\u001b[0;34m)\u001b[0m\u001b[0;34m\u001b[0m\u001b[0;34m\u001b[0m\u001b[0m\n\u001b[0;32m-> 1030\u001b[0;31m             \u001b[0;32mraise\u001b[0m \u001b[0mself\u001b[0m\u001b[0;34m.\u001b[0m\u001b[0m_make_status_error_from_response\u001b[0m\u001b[0;34m(\u001b[0m\u001b[0merr\u001b[0m\u001b[0;34m.\u001b[0m\u001b[0mresponse\u001b[0m\u001b[0;34m)\u001b[0m \u001b[0;32mfrom\u001b[0m \u001b[0;32mNone\u001b[0m\u001b[0;34m\u001b[0m\u001b[0;34m\u001b[0m\u001b[0m\n\u001b[0m\u001b[1;32m   1031\u001b[0m \u001b[0;34m\u001b[0m\u001b[0m\n\u001b[1;32m   1032\u001b[0m         return self._process_response(\n",
            "\u001b[0;31mRateLimitError\u001b[0m: Error code: 429 - {'error': {'message': 'You exceeded your current quota, please check your plan and billing details. For more information on this error, read the docs: https://platform.openai.com/docs/guides/error-codes/api-errors.', 'type': 'insufficient_quota', 'param': None, 'code': 'insufficient_quota'}}"
          ]
        }
      ]
    },
    {
      "cell_type": "code",
      "source": [
        "db"
      ],
      "metadata": {
        "id": "AUCMBISWPpZV"
      },
      "execution_count": null,
      "outputs": []
    },
    {
      "cell_type": "code",
      "source": [
        "# Using langchain retriever\n",
        "\n",
        "retriever = db.as_retriever()\n",
        "from langchain.agents.agent_toolkits import create_retriever_tool\n",
        "tool = create_retriever_tool(\n",
        "    retriever,\n",
        "    \"My_Fav_Book_is_Atomic_Habbits\",\n",
        "    \"Searches and returns documents reg. the book of atomic habbits\"\n",
        ")\n",
        "\n",
        "tool = [tool]\n",
        "\n",
        "# wrapping LLM with conversation agent\n",
        "from langchain.agents.agent_toolkits import create_conversational_retrieval_agent\n",
        "\n",
        "# Langchain given API to interact with chat models\n",
        "from langchain_openai.chat_models import ChatOpenAI\n",
        "llm = ChatOpenAI(temperature = 0)\n",
        "agent_executer = create_conversational_retrieval_agent(llm, tools, verbose=True)\n"
      ],
      "metadata": {
        "colab": {
          "base_uri": "https://localhost:8080/",
          "height": 211
        },
        "collapsed": true,
        "id": "h9c3mK52Pqei",
        "outputId": "91266b9c-8772-47cd-c028-ec6e0f1acdce"
      },
      "execution_count": null,
      "outputs": [
        {
          "output_type": "error",
          "ename": "NameError",
          "evalue": "name 'db' is not defined",
          "traceback": [
            "\u001b[0;31m---------------------------------------------------------------------------\u001b[0m",
            "\u001b[0;31mNameError\u001b[0m                                 Traceback (most recent call last)",
            "\u001b[0;32m<ipython-input-7-a5a8861f5a4d>\u001b[0m in \u001b[0;36m<cell line: 3>\u001b[0;34m()\u001b[0m\n\u001b[1;32m      1\u001b[0m \u001b[0;31m# Using langchain retriever\u001b[0m\u001b[0;34m\u001b[0m\u001b[0;34m\u001b[0m\u001b[0m\n\u001b[1;32m      2\u001b[0m \u001b[0;34m\u001b[0m\u001b[0m\n\u001b[0;32m----> 3\u001b[0;31m \u001b[0mretriever\u001b[0m \u001b[0;34m=\u001b[0m \u001b[0mdb\u001b[0m\u001b[0;34m.\u001b[0m\u001b[0mas_retriever\u001b[0m\u001b[0;34m(\u001b[0m\u001b[0;34m)\u001b[0m\u001b[0;34m\u001b[0m\u001b[0;34m\u001b[0m\u001b[0m\n\u001b[0m\u001b[1;32m      4\u001b[0m \u001b[0;32mfrom\u001b[0m \u001b[0mlangchain\u001b[0m\u001b[0;34m.\u001b[0m\u001b[0magents\u001b[0m\u001b[0;34m.\u001b[0m\u001b[0magent_toolkits\u001b[0m \u001b[0;32mimport\u001b[0m \u001b[0mcreate_retriever_tool\u001b[0m\u001b[0;34m\u001b[0m\u001b[0;34m\u001b[0m\u001b[0m\n\u001b[1;32m      5\u001b[0m tool = create_retriever_tool(\n",
            "\u001b[0;31mNameError\u001b[0m: name 'db' is not defined"
          ]
        }
      ]
    },
    {
      "cell_type": "code",
      "source": [
        "input = \"What are the surprising power of atomic habits\"\n",
        "result = agent_executer.invoke({\"input\":input})"
      ],
      "metadata": {
        "id": "rv85BrrVRG-h"
      },
      "execution_count": null,
      "outputs": []
    }
  ]
}
